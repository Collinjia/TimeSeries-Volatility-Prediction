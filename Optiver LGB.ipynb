{
 "cells": [
  {
   "cell_type": "code",
   "execution_count": 1,
   "id": "f2b4be48",
   "metadata": {
    "ExecuteTime": {
     "end_time": "2021-08-09T18:54:20.160321Z",
     "start_time": "2021-08-09T18:54:16.549570Z"
    }
   },
   "outputs": [],
   "source": [
    "import os\n",
    "import glob\n",
    "from joblib import Parallel, delayed\n",
    "import pandas as pd\n",
    "import numpy as np\n",
    "import scipy as sc\n",
    "from sklearn.model_selection import KFold\n",
    "import lightgbm as lgb\n",
    "import warnings\n",
    "warnings.filterwarnings('ignore')\n",
    "pd.set_option('max_columns', 300)"
   ]
  },
  {
   "cell_type": "markdown",
   "id": "7ac8c175",
   "metadata": {},
   "source": [
    "## Config"
   ]
  },
  {
   "cell_type": "code",
   "execution_count": 5,
   "id": "401c57e4",
   "metadata": {
    "ExecuteTime": {
     "end_time": "2021-08-09T19:19:07.530693Z",
     "start_time": "2021-08-09T19:19:07.518690Z"
    }
   },
   "outputs": [],
   "source": [
    "# Function to calculate first WAP\n",
    "def calc_wap1(df):\n",
    "    wap = (df['bid_price1'] * df['ask_size1'] + df['ask_price1'] * df['bid_size1']) / (df['bid_size1'] + df['ask_size1'])\n",
    "    return wap\n",
    "\n",
    "# Function to calculate second WAP\n",
    "def calc_wap2(df):\n",
    "    wap = (df['bid_price2'] * df['ask_size2'] + df['ask_price2'] * df['bid_size2']) / (df['bid_size2'] + df['ask_size2'])\n",
    "    return wap\n",
    "\n",
    "# Function to calculate the log of the return\n",
    "# Remember that logb(x / y) = logb(x) - logb(y)\n",
    "def log_return(series):\n",
    "    return np.log(series).diff()\n",
    "\n",
    "# Calculate the realized volatility\n",
    "def realized_volatility(series):\n",
    "    return np.sqrt(np.sum(series**2))\n",
    "\n",
    "# Function to count unique elements of a series\n",
    "def count_unique(series):\n",
    "    return len(np.unique(series))\n",
    "\n",
    "# Function to read our base train and test set\n",
    "def read_train_test():\n",
    "    train = pd.read_csv('train.csv')\n",
    "    test = pd.read_csv('test.csv')\n",
    "    # Create a key to merge with book and trade data\n",
    "    train['row_id'] = train['stock_id'].astype(str) + '-' + train['time_id'].astype(str)\n",
    "    test['row_id'] = test['stock_id'].astype(str) + '-' + test['time_id'].astype(str)\n",
    "    print(f'Our training set has {train.shape[0]} rows')\n",
    "    return train, test"
   ]
  },
  {
   "cell_type": "markdown",
   "id": "fdff8a1e",
   "metadata": {},
   "source": [
    "## Feature Engineering"
   ]
  },
  {
   "cell_type": "code",
   "execution_count": 6,
   "id": "90bb141b",
   "metadata": {
    "ExecuteTime": {
     "end_time": "2021-08-09T19:19:11.777570Z",
     "start_time": "2021-08-09T19:19:11.760566Z"
    }
   },
   "outputs": [],
   "source": [
    "# Function to preprocess book data (for each stock id)\n",
    "def book_preprocessor(file_path):\n",
    "    df = pd.read_parquet(file_path)\n",
    "    # Calculate Wap\n",
    "    df['wap1'] = calc_wap1(df)\n",
    "    df['wap2'] = calc_wap2(df)\n",
    "    # Calculate log returns\n",
    "    df['log_return1'] = df.groupby(['time_id'])['wap1'].apply(log_return)\n",
    "    df['log_return2'] = df.groupby(['time_id'])['wap2'].apply(log_return)\n",
    "    # Calculate wap balance\n",
    "    df['wap_balance'] = abs(df['wap1'] - df['wap2'])\n",
    "    # Calculate spread\n",
    "    df['price_spread'] = (df['ask_price1'] - df['bid_price1']) / ((df['ask_price1'] + df['bid_price1']) / 2)\n",
    "    df['bid_spread'] = df['bid_price1'] - df['bid_price2']\n",
    "    df['ask_spread'] = df['ask_price1'] - df['ask_price2']\n",
    "    df['total_volume'] = (df['ask_size1'] + df['ask_size2']) + (df['bid_size1'] + df['bid_size2'])\n",
    "    df['volume_imbalance'] = abs((df['ask_size1'] + df['ask_size2']) - (df['bid_size1'] + df['bid_size2']))\n",
    "    \n",
    "    # Dict for aggregations\n",
    "    create_feature_dict = {\n",
    "        'wap1': [np.sum, np.mean, np.std],\n",
    "        'wap2': [np.sum, np.mean, np.std],\n",
    "        'log_return1': [np.sum, realized_volatility, np.mean, np.std],\n",
    "        'log_return2': [np.sum, realized_volatility, np.mean, np.std],\n",
    "        'wap_balance': [np.sum, np.mean, np.std],\n",
    "        'price_spread':[np.sum, np.mean, np.std],\n",
    "        'bid_spread':[np.sum, np.mean, np.std],\n",
    "        'ask_spread':[np.sum, np.mean, np.std],\n",
    "        'total_volume':[np.sum, np.mean, np.std],\n",
    "        'volume_imbalance':[np.sum, np.mean, np.std]\n",
    "    }\n",
    "    \n",
    "    # Function to get group stats for different windows (seconds in bucket)\n",
    "    def get_stats_window(seconds_in_bucket, add_suffix = False):\n",
    "        # Group by the window\n",
    "        df_feature = df[df['seconds_in_bucket'] >= seconds_in_bucket].groupby(['time_id']).agg(create_feature_dict).reset_index()\n",
    "        # Rename columns joining suffix\n",
    "        df_feature.columns = ['_'.join(col) for col in df_feature.columns]\n",
    "        # Add a suffix to differentiate windows\n",
    "        if add_suffix:\n",
    "            df_feature = df_feature.add_suffix('_' + str(seconds_in_bucket))\n",
    "        return df_feature\n",
    "    \n",
    "    # Get the stats for different windows\n",
    "    df_feature = get_stats_window(seconds_in_bucket = 0, add_suffix = False)\n",
    "    df_feature_450 = get_stats_window(seconds_in_bucket = 450, add_suffix = True)\n",
    "    df_feature_300 = get_stats_window(seconds_in_bucket = 300, add_suffix = True)\n",
    "    df_feature_150 = get_stats_window(seconds_in_bucket = 150, add_suffix = True)\n",
    "    \n",
    "    # Merge all\n",
    "    df_feature = df_feature.merge(df_feature_450, how = 'left', left_on = 'time_id_', right_on = 'time_id__450')\n",
    "    df_feature = df_feature.merge(df_feature_300, how = 'left', left_on = 'time_id_', right_on = 'time_id__300')\n",
    "    df_feature = df_feature.merge(df_feature_150, how = 'left', left_on = 'time_id_', right_on = 'time_id__150')\n",
    "    # Drop unnecesary time_ids\n",
    "    df_feature.drop(['time_id__450', 'time_id__300', 'time_id__150'], axis = 1, inplace = True)\n",
    "    \n",
    "    # Create row_id so we can merge\n",
    "    stock_id = file_path.split('=')[1]\n",
    "    df_feature['row_id'] = df_feature['time_id_'].apply(lambda x: f'{stock_id}-{x}')\n",
    "    df_feature.drop(['time_id_'], axis = 1, inplace = True)\n",
    "    return df_feature"
   ]
  },
  {
   "cell_type": "code",
   "execution_count": 7,
   "id": "6babec6d",
   "metadata": {
    "ExecuteTime": {
     "end_time": "2021-08-09T19:19:15.281204Z",
     "start_time": "2021-08-09T19:19:15.272201Z"
    }
   },
   "outputs": [],
   "source": [
    "# Function to preprocess trade data (for each stock id)\n",
    "def trade_preprocessor(file_path):\n",
    "    df = pd.read_parquet(file_path)\n",
    "    df['log_return'] = df.groupby('time_id')['price'].apply(log_return)\n",
    "    \n",
    "    # Dict for aggregations\n",
    "    create_feature_dict = {\n",
    "        'log_return':[realized_volatility],\n",
    "        'seconds_in_bucket':[count_unique],\n",
    "        'size':[np.sum],\n",
    "        'order_count':[np.mean],\n",
    "    }\n",
    "    \n",
    "    # Function to get group stats for different windows (seconds in bucket)\n",
    "    def get_stats_window(seconds_in_bucket, add_suffix = False):\n",
    "        # Group by the window\n",
    "        df_feature = df[df['seconds_in_bucket'] >= seconds_in_bucket].groupby(['time_id']).agg(create_feature_dict).reset_index()\n",
    "        # Rename columns joining suffix\n",
    "        df_feature.columns = ['_'.join(col) for col in df_feature.columns]\n",
    "        # Add a suffix to differentiate windows\n",
    "        if add_suffix:\n",
    "            df_feature = df_feature.add_suffix('_' + str(seconds_in_bucket))\n",
    "        return df_feature\n",
    "    \n",
    "    # Get the stats for different windows\n",
    "    df_feature = get_stats_window(seconds_in_bucket = 0, add_suffix = False)\n",
    "    df_feature_450 = get_stats_window(seconds_in_bucket = 450, add_suffix = True)\n",
    "    df_feature_300 = get_stats_window(seconds_in_bucket = 300, add_suffix = True)\n",
    "    df_feature_150 = get_stats_window(seconds_in_bucket = 150, add_suffix = True)\n",
    "\n",
    "    # Merge all\n",
    "    df_feature = df_feature.merge(df_feature_450, how = 'left', left_on = 'time_id_', right_on = 'time_id__450')\n",
    "    df_feature = df_feature.merge(df_feature_300, how = 'left', left_on = 'time_id_', right_on = 'time_id__300')\n",
    "    df_feature = df_feature.merge(df_feature_150, how = 'left', left_on = 'time_id_', right_on = 'time_id__150')\n",
    "    # Drop unnecesary time_ids\n",
    "    df_feature.drop(['time_id__450', 'time_id__300', 'time_id__150'], axis = 1, inplace = True)\n",
    "    \n",
    "    df_feature = df_feature.add_prefix('trade_')\n",
    "    stock_id = file_path.split('=')[1]\n",
    "    df_feature['row_id'] = df_feature['trade_time_id_'].apply(lambda x:f'{stock_id}-{x}')\n",
    "    df_feature.drop(['trade_time_id_'], axis = 1, inplace = True)\n",
    "    return df_feature"
   ]
  },
  {
   "cell_type": "code",
   "execution_count": 8,
   "id": "834fda92",
   "metadata": {
    "ExecuteTime": {
     "end_time": "2021-08-09T19:19:16.982554Z",
     "start_time": "2021-08-09T19:19:16.964550Z"
    }
   },
   "outputs": [],
   "source": [
    "# Function to get group stats for the stock_id and time_id\n",
    "def get_time_stock(df):\n",
    "    # Get realized volatility columns\n",
    "    vol_cols = ['log_return1_realized_volatility', 'log_return2_realized_volatility', 'log_return1_realized_volatility_450', 'log_return2_realized_volatility_450', \n",
    "                'log_return1_realized_volatility_300', 'log_return2_realized_volatility_300', 'log_return1_realized_volatility_150', 'log_return2_realized_volatility_150', \n",
    "                'trade_log_return_realized_volatility', 'trade_log_return_realized_volatility_450', 'trade_log_return_realized_volatility_300', 'trade_log_return_realized_volatility_150']\n",
    "\n",
    "    # Group by the stock id\n",
    "    df_stock_id = df.groupby(['stock_id'])[vol_cols].agg(['mean', 'std', 'max', 'min', ]).reset_index()\n",
    "    # Rename columns joining suffix\n",
    "    df_stock_id.columns = ['_'.join(col) for col in df_stock_id.columns]\n",
    "    df_stock_id = df_stock_id.add_suffix('_' + 'stock')\n",
    "\n",
    "    # Group by the stock id\n",
    "    df_time_id = df.groupby(['time_id'])[vol_cols].agg(['mean', 'std', 'max', 'min', ]).reset_index()\n",
    "    # Rename columns joining suffix\n",
    "    df_time_id.columns = ['_'.join(col) for col in df_time_id.columns]\n",
    "    df_time_id = df_time_id.add_suffix('_' + 'time')\n",
    "    \n",
    "    # Merge with original dataframe\n",
    "    df = df.merge(df_stock_id, how = 'left', left_on = ['stock_id'], right_on = ['stock_id__stock'])\n",
    "    df = df.merge(df_time_id, how = 'left', left_on = ['time_id'], right_on = ['time_id__time'])\n",
    "    df.drop(['stock_id__stock', 'time_id__time'], axis = 1, inplace = True)\n",
    "    return df"
   ]
  },
  {
   "cell_type": "code",
   "execution_count": 9,
   "id": "8b239799",
   "metadata": {
    "ExecuteTime": {
     "end_time": "2021-08-09T19:19:17.646211Z",
     "start_time": "2021-08-09T19:19:17.642211Z"
    }
   },
   "outputs": [],
   "source": [
    "# Funtion to make preprocessing function in parallel (for each stock id)\n",
    "def preprocessor(list_stock_ids, is_train = True):\n",
    "    \n",
    "    # Parrallel for loop\n",
    "    def for_joblib(stock_id):\n",
    "        # Train\n",
    "        if is_train:\n",
    "            file_path_book = \"book_train.parquet/stock_id=\" + str(stock_id)\n",
    "            file_path_trade = \"trade_train.parquet/stock_id=\" + str(stock_id)\n",
    "        # Test\n",
    "        else:\n",
    "            file_path_book = \"book_test.parquet/stock_id=\" + str(stock_id)\n",
    "            file_path_trade = \"trade_test.parquet/stock_id=\" + str(stock_id)\n",
    "    \n",
    "        # Preprocess book and trade data and merge them\n",
    "        df_tmp = pd.merge(book_preprocessor(file_path_book), trade_preprocessor(file_path_trade), on = 'row_id', how = 'left')\n",
    "        \n",
    "        # Return the merge dataframe\n",
    "        return df_tmp\n",
    "    \n",
    "    # Use parallel api to call paralle for loop\n",
    "    df = Parallel(n_jobs = -1, verbose = 1)(delayed(for_joblib)(stock_id) for stock_id in list_stock_ids)\n",
    "    # Concatenate all the dataframes that return from Parallel\n",
    "    df = pd.concat(df, ignore_index = True)\n",
    "    return df"
   ]
  },
  {
   "cell_type": "markdown",
   "id": "716cc24c",
   "metadata": {},
   "source": [
    "## Train & Evaluate Model"
   ]
  },
  {
   "cell_type": "code",
   "execution_count": 10,
   "id": "793d1f76",
   "metadata": {
    "ExecuteTime": {
     "end_time": "2021-08-09T19:19:20.026554Z",
     "start_time": "2021-08-09T19:19:20.022553Z"
    }
   },
   "outputs": [],
   "source": [
    "# Function to calculate the root mean squared percentage error\n",
    "def rmspe(y_true, y_pred):\n",
    "    return np.sqrt(np.mean(np.square((y_true - y_pred) / y_true)))\n",
    "\n",
    "# Function to early stop with root mean squared percentage error\n",
    "def feval_rmspe(y_pred, lgb_train):\n",
    "    y_true = lgb_train.get_label()\n",
    "    return 'RMSPE', rmspe(y_true, y_pred), False\n"
   ]
  },
  {
   "cell_type": "code",
   "execution_count": 11,
   "id": "6851f85b",
   "metadata": {
    "ExecuteTime": {
     "end_time": "2021-08-09T19:19:20.960213Z",
     "start_time": "2021-08-09T19:19:20.948211Z"
    }
   },
   "outputs": [],
   "source": [
    "def train_and_evaluate(train, test):\n",
    "    # Hyperparammeters (optimized)\n",
    "    seed = 42\n",
    "    params = {\n",
    "        'learning_rate': 0.13572437900113307,        \n",
    "        'lambda_l1': 2.154360665259325,\n",
    "        'lambda_l2': 6.711089761523827,\n",
    "        'num_leaves': 769,\n",
    "        'min_sum_hessian_in_leaf': 20.44437160769411,\n",
    "        'feature_fraction': 0.7921473067441019,\n",
    "        'feature_fraction_bynode': 0.8083803860191322,\n",
    "        'bagging_fraction': 0.9726755660563261,\n",
    "        'bagging_freq': 42,\n",
    "        'min_data_in_leaf': 690,\n",
    "        'max_depth': 3,\n",
    "        'seed': seed,\n",
    "        'feature_fraction_seed': seed,\n",
    "        'bagging_seed': seed,\n",
    "        'drop_seed': seed,\n",
    "        'data_random_seed': seed,\n",
    "        'objective': 'rmse',\n",
    "        'boosting': 'gbdt',\n",
    "        'verbosity': -1,\n",
    "        'n_jobs': -1,\n",
    "    }   \n",
    "    \n",
    "    # Split features and target\n",
    "    x = train.drop(['row_id', 'target', 'time_id'], axis = 1)\n",
    "    y = train['target']\n",
    "    x_test = test.drop(['row_id', 'time_id'], axis = 1)\n",
    "    # Transform stock id to a numeric value\n",
    "    x['stock_id'] = x['stock_id'].astype(int)\n",
    "    x_test['stock_id'] = x_test['stock_id'].astype(int)\n",
    "    \n",
    "    # Create out of folds array\n",
    "    oof_predictions = np.zeros(x.shape[0])\n",
    "    # Create test array to store predictions\n",
    "    test_predictions = np.zeros(x_test.shape[0])\n",
    "    # Create a KFold object\n",
    "    kfold = KFold(n_splits = 5, random_state = 66, shuffle = True)\n",
    "    # Iterate through each fold\n",
    "    for fold, (trn_ind, val_ind) in enumerate(kfold.split(x)):\n",
    "        print(f'Training fold {fold + 1}')\n",
    "        x_train, x_val = x.iloc[trn_ind], x.iloc[val_ind]\n",
    "        y_train, y_val = y.iloc[trn_ind], y.iloc[val_ind]\n",
    "        # Root mean squared percentage error weights\n",
    "        train_weights = 1 / np.square(y_train)\n",
    "        val_weights = 1 / np.square(y_val)\n",
    "        train_dataset = lgb.Dataset(x_train, y_train, weight = train_weights, categorical_feature = ['stock_id'])\n",
    "        val_dataset = lgb.Dataset(x_val, y_val, weight = val_weights, categorical_feature = ['stock_id'])\n",
    "        model = lgb.train(params = params, \n",
    "                          train_set = train_dataset, \n",
    "                          valid_sets = [train_dataset, val_dataset], \n",
    "                          num_boost_round = 10000, \n",
    "                          early_stopping_rounds = 67, \n",
    "                          verbose_eval = 200,\n",
    "                          feval = feval_rmspe)\n",
    "        # Add predictions to the out of folds array\n",
    "        oof_predictions[val_ind] = model.predict(x_val)\n",
    "        # Predict the test set\n",
    "        test_predictions += model.predict(x_test) / 5\n",
    "        \n",
    "    rmspe_score = rmspe(y, oof_predictions)\n",
    "    print(f'Our out of folds RMSPE is {rmspe_score}')\n",
    "    # Return test predictions\n",
    "    return test_predictions\n"
   ]
  },
  {
   "cell_type": "code",
   "execution_count": 12,
   "id": "8111c96c",
   "metadata": {
    "ExecuteTime": {
     "end_time": "2021-08-09T19:32:44.157048Z",
     "start_time": "2021-08-09T19:19:23.233193Z"
    }
   },
   "outputs": [
    {
     "name": "stdout",
     "output_type": "stream",
     "text": [
      "Our training set has 428932 rows\n"
     ]
    },
    {
     "name": "stderr",
     "output_type": "stream",
     "text": [
      "[Parallel(n_jobs=-1)]: Using backend LokyBackend with 16 concurrent workers.\n",
      "[Parallel(n_jobs=-1)]: Done  18 tasks      | elapsed:   41.3s\n",
      "[Parallel(n_jobs=-1)]: Done 112 out of 112 | elapsed:  2.5min finished\n",
      "[Parallel(n_jobs=-1)]: Using backend LokyBackend with 16 concurrent workers.\n",
      "[Parallel(n_jobs=-1)]: Done   1 out of   1 | elapsed:    0.0s finished\n"
     ]
    },
    {
     "name": "stdout",
     "output_type": "stream",
     "text": [
      "Training fold 1\n",
      "Training until validation scores don't improve for 67 rounds\n",
      "[200]\ttraining's rmse: 0.000464943\ttraining's RMSPE: 0.215341\tvalid_1's rmse: 0.00047731\tvalid_1's RMSPE: 0.220247\n",
      "[400]\ttraining's rmse: 0.000447287\ttraining's RMSPE: 0.207164\tvalid_1's rmse: 0.000462767\tvalid_1's RMSPE: 0.213537\n",
      "[600]\ttraining's rmse: 0.000435672\ttraining's RMSPE: 0.201784\tvalid_1's rmse: 0.000454032\tvalid_1's RMSPE: 0.209506\n",
      "[800]\ttraining's rmse: 0.0004257\ttraining's RMSPE: 0.197166\tvalid_1's rmse: 0.000446919\tvalid_1's RMSPE: 0.206224\n",
      "[1000]\ttraining's rmse: 0.000417591\ttraining's RMSPE: 0.19341\tvalid_1's rmse: 0.000441726\tvalid_1's RMSPE: 0.203827\n",
      "[1200]\ttraining's rmse: 0.000411162\ttraining's RMSPE: 0.190432\tvalid_1's rmse: 0.000438314\tvalid_1's RMSPE: 0.202253\n",
      "[1400]\ttraining's rmse: 0.000405853\ttraining's RMSPE: 0.187973\tvalid_1's rmse: 0.000435313\tvalid_1's RMSPE: 0.200868\n",
      "[1600]\ttraining's rmse: 0.00040116\ttraining's RMSPE: 0.1858\tvalid_1's rmse: 0.000433333\tvalid_1's RMSPE: 0.199955\n",
      "[1800]\ttraining's rmse: 0.000396562\ttraining's RMSPE: 0.18367\tvalid_1's rmse: 0.000430657\tvalid_1's RMSPE: 0.19872\n",
      "[2000]\ttraining's rmse: 0.000392628\ttraining's RMSPE: 0.181848\tvalid_1's rmse: 0.000429199\tvalid_1's RMSPE: 0.198047\n",
      "[2200]\ttraining's rmse: 0.000388926\ttraining's RMSPE: 0.180133\tvalid_1's rmse: 0.000427502\tvalid_1's RMSPE: 0.197264\n",
      "Early stopping, best iteration is:\n",
      "[2215]\ttraining's rmse: 0.000388642\ttraining's RMSPE: 0.180002\tvalid_1's rmse: 0.000427384\tvalid_1's RMSPE: 0.19721\n",
      "Training fold 2\n",
      "Training until validation scores don't improve for 67 rounds\n",
      "[200]\ttraining's rmse: 0.000466004\ttraining's RMSPE: 0.215558\tvalid_1's rmse: 0.000473225\tvalid_1's RMSPE: 0.219478\n",
      "[400]\ttraining's rmse: 0.000447701\ttraining's RMSPE: 0.207092\tvalid_1's rmse: 0.000458144\tvalid_1's RMSPE: 0.212484\n",
      "[600]\ttraining's rmse: 0.000435622\ttraining's RMSPE: 0.201505\tvalid_1's rmse: 0.000448598\tvalid_1's RMSPE: 0.208057\n",
      "[800]\ttraining's rmse: 0.000426219\ttraining's RMSPE: 0.197155\tvalid_1's rmse: 0.000442075\tvalid_1's RMSPE: 0.205031\n",
      "[1000]\ttraining's rmse: 0.000418045\ttraining's RMSPE: 0.193374\tvalid_1's rmse: 0.00043653\tvalid_1's RMSPE: 0.20246\n",
      "[1200]\ttraining's rmse: 0.000411577\ttraining's RMSPE: 0.190382\tvalid_1's rmse: 0.000432887\tvalid_1's RMSPE: 0.20077\n",
      "[1400]\ttraining's rmse: 0.000406034\ttraining's RMSPE: 0.187818\tvalid_1's rmse: 0.00043023\tvalid_1's RMSPE: 0.199538\n",
      "[1600]\ttraining's rmse: 0.000401032\ttraining's RMSPE: 0.185504\tvalid_1's rmse: 0.000427896\tvalid_1's RMSPE: 0.198455\n",
      "[1800]\ttraining's rmse: 0.000396611\ttraining's RMSPE: 0.183459\tvalid_1's rmse: 0.000425738\tvalid_1's RMSPE: 0.197454\n",
      "[2000]\ttraining's rmse: 0.000392618\ttraining's RMSPE: 0.181612\tvalid_1's rmse: 0.000424176\tvalid_1's RMSPE: 0.19673\n",
      "[2200]\ttraining's rmse: 0.000388935\ttraining's RMSPE: 0.179909\tvalid_1's rmse: 0.000422622\tvalid_1's RMSPE: 0.196009\n",
      "[2400]\ttraining's rmse: 0.000385629\ttraining's RMSPE: 0.17838\tvalid_1's rmse: 0.000421235\tvalid_1's RMSPE: 0.195366\n",
      "[2600]\ttraining's rmse: 0.000382635\ttraining's RMSPE: 0.176994\tvalid_1's rmse: 0.000420404\tvalid_1's RMSPE: 0.19498\n",
      "[2800]\ttraining's rmse: 0.000379889\ttraining's RMSPE: 0.175724\tvalid_1's rmse: 0.000419614\tvalid_1's RMSPE: 0.194614\n",
      "[3000]\ttraining's rmse: 0.000377125\ttraining's RMSPE: 0.174446\tvalid_1's rmse: 0.000418988\tvalid_1's RMSPE: 0.194324\n",
      "[3200]\ttraining's rmse: 0.000374536\ttraining's RMSPE: 0.173248\tvalid_1's rmse: 0.000418334\tvalid_1's RMSPE: 0.19402\n",
      "[3400]\ttraining's rmse: 0.00037211\ttraining's RMSPE: 0.172126\tvalid_1's rmse: 0.000418062\tvalid_1's RMSPE: 0.193894\n",
      "[3600]\ttraining's rmse: 0.000369656\ttraining's RMSPE: 0.170991\tvalid_1's rmse: 0.000417571\tvalid_1's RMSPE: 0.193666\n",
      "Early stopping, best iteration is:\n",
      "[3592]\ttraining's rmse: 0.000369758\ttraining's RMSPE: 0.171038\tvalid_1's rmse: 0.000417487\tvalid_1's RMSPE: 0.193628\n",
      "Training fold 3\n",
      "Training until validation scores don't improve for 67 rounds\n",
      "[200]\ttraining's rmse: 0.000465281\ttraining's RMSPE: 0.215355\tvalid_1's rmse: 0.000472838\tvalid_1's RMSPE: 0.218765\n",
      "[400]\ttraining's rmse: 0.000447444\ttraining's RMSPE: 0.207099\tvalid_1's rmse: 0.000459001\tvalid_1's RMSPE: 0.212363\n",
      "[600]\ttraining's rmse: 0.00043507\ttraining's RMSPE: 0.201372\tvalid_1's rmse: 0.000450398\tvalid_1's RMSPE: 0.208383\n",
      "[800]\ttraining's rmse: 0.000426215\ttraining's RMSPE: 0.197274\tvalid_1's rmse: 0.000445068\tvalid_1's RMSPE: 0.205917\n",
      "[1000]\ttraining's rmse: 0.000418314\ttraining's RMSPE: 0.193616\tvalid_1's rmse: 0.000440267\tvalid_1's RMSPE: 0.203696\n",
      "[1200]\ttraining's rmse: 0.000411728\ttraining's RMSPE: 0.190568\tvalid_1's rmse: 0.000436296\tvalid_1's RMSPE: 0.201858\n",
      "[1400]\ttraining's rmse: 0.000406357\ttraining's RMSPE: 0.188082\tvalid_1's rmse: 0.000433664\tvalid_1's RMSPE: 0.200641\n",
      "[1600]\ttraining's rmse: 0.0004015\ttraining's RMSPE: 0.185834\tvalid_1's rmse: 0.000431573\tvalid_1's RMSPE: 0.199673\n",
      "[1800]\ttraining's rmse: 0.000397042\ttraining's RMSPE: 0.183771\tvalid_1's rmse: 0.000429839\tvalid_1's RMSPE: 0.198871\n",
      "[2000]\ttraining's rmse: 0.00039286\ttraining's RMSPE: 0.181835\tvalid_1's rmse: 0.000427921\tvalid_1's RMSPE: 0.197984\n",
      "[2200]\ttraining's rmse: 0.000389307\ttraining's RMSPE: 0.180191\tvalid_1's rmse: 0.000426946\tvalid_1's RMSPE: 0.197532\n",
      "[2400]\ttraining's rmse: 0.000385898\ttraining's RMSPE: 0.178613\tvalid_1's rmse: 0.000425837\tvalid_1's RMSPE: 0.19702\n",
      "[2600]\ttraining's rmse: 0.000382665\ttraining's RMSPE: 0.177116\tvalid_1's rmse: 0.000425327\tvalid_1's RMSPE: 0.196784\n",
      "Early stopping, best iteration is:\n",
      "[2555]\ttraining's rmse: 0.000383345\ttraining's RMSPE: 0.177431\tvalid_1's rmse: 0.000425287\tvalid_1's RMSPE: 0.196765\n",
      "Training fold 4\n",
      "Training until validation scores don't improve for 67 rounds\n",
      "[200]\ttraining's rmse: 0.000465773\ttraining's RMSPE: 0.215239\tvalid_1's rmse: 0.000488301\tvalid_1's RMSPE: 0.227358\n",
      "[400]\ttraining's rmse: 0.000447221\ttraining's RMSPE: 0.206665\tvalid_1's rmse: 0.000474019\tvalid_1's RMSPE: 0.220709\n",
      "[600]\ttraining's rmse: 0.000435212\ttraining's RMSPE: 0.201116\tvalid_1's rmse: 0.000465278\tvalid_1's RMSPE: 0.216639\n",
      "[800]\ttraining's rmse: 0.000425462\ttraining's RMSPE: 0.19661\tvalid_1's rmse: 0.000458117\tvalid_1's RMSPE: 0.213305\n",
      "[1000]\ttraining's rmse: 0.000417976\ttraining's RMSPE: 0.193151\tvalid_1's rmse: 0.000453614\tvalid_1's RMSPE: 0.211208\n",
      "[1200]\ttraining's rmse: 0.000411158\ttraining's RMSPE: 0.19\tvalid_1's rmse: 0.000448786\tvalid_1's RMSPE: 0.20896\n",
      "[1400]\ttraining's rmse: 0.000405612\ttraining's RMSPE: 0.187437\tvalid_1's rmse: 0.000445804\tvalid_1's RMSPE: 0.207572\n",
      "[1600]\ttraining's rmse: 0.000400883\ttraining's RMSPE: 0.185252\tvalid_1's rmse: 0.000443172\tvalid_1's RMSPE: 0.206346\n",
      "[1800]\ttraining's rmse: 0.000396422\ttraining's RMSPE: 0.183191\tvalid_1's rmse: 0.000440587\tvalid_1's RMSPE: 0.205142\n",
      "[2000]\ttraining's rmse: 0.000392241\ttraining's RMSPE: 0.181259\tvalid_1's rmse: 0.000438718\tvalid_1's RMSPE: 0.204272\n",
      "[2200]\ttraining's rmse: 0.000388479\ttraining's RMSPE: 0.17952\tvalid_1's rmse: 0.00043723\tvalid_1's RMSPE: 0.203579\n",
      "Early stopping, best iteration is:\n",
      "[2184]\ttraining's rmse: 0.000388713\ttraining's RMSPE: 0.179629\tvalid_1's rmse: 0.000436916\tvalid_1's RMSPE: 0.203433\n",
      "Training fold 5\n",
      "Training until validation scores don't improve for 67 rounds\n",
      "[200]\ttraining's rmse: 0.000465866\ttraining's RMSPE: 0.215872\tvalid_1's rmse: 0.000476219\tvalid_1's RMSPE: 0.21932\n",
      "[400]\ttraining's rmse: 0.000448583\ttraining's RMSPE: 0.207863\tvalid_1's rmse: 0.00046388\tvalid_1's RMSPE: 0.213637\n",
      "[600]\ttraining's rmse: 0.000435499\ttraining's RMSPE: 0.201801\tvalid_1's rmse: 0.00045398\tvalid_1's RMSPE: 0.209078\n",
      "[800]\ttraining's rmse: 0.000426167\ttraining's RMSPE: 0.197476\tvalid_1's rmse: 0.000447825\tvalid_1's RMSPE: 0.206243\n",
      "[1000]\ttraining's rmse: 0.000418282\ttraining's RMSPE: 0.193823\tvalid_1's rmse: 0.000443077\tvalid_1's RMSPE: 0.204056\n",
      "[1200]\ttraining's rmse: 0.000411788\ttraining's RMSPE: 0.190814\tvalid_1's rmse: 0.000439547\tvalid_1's RMSPE: 0.202431\n",
      "[1400]\ttraining's rmse: 0.000406178\ttraining's RMSPE: 0.188214\tvalid_1's rmse: 0.0004368\tvalid_1's RMSPE: 0.201165\n",
      "[1600]\ttraining's rmse: 0.000401354\ttraining's RMSPE: 0.185979\tvalid_1's rmse: 0.000434327\tvalid_1's RMSPE: 0.200027\n",
      "[1800]\ttraining's rmse: 0.000396901\ttraining's RMSPE: 0.183915\tvalid_1's rmse: 0.000432165\tvalid_1's RMSPE: 0.199031\n",
      "[2000]\ttraining's rmse: 0.000392468\ttraining's RMSPE: 0.181861\tvalid_1's rmse: 0.000430403\tvalid_1's RMSPE: 0.198219\n"
     ]
    },
    {
     "name": "stdout",
     "output_type": "stream",
     "text": [
      "[2200]\ttraining's rmse: 0.000388669\ttraining's RMSPE: 0.180101\tvalid_1's rmse: 0.000429108\tvalid_1's RMSPE: 0.197623\n",
      "[2400]\ttraining's rmse: 0.000385378\ttraining's RMSPE: 0.178576\tvalid_1's rmse: 0.000428194\tvalid_1's RMSPE: 0.197202\n",
      "[2600]\ttraining's rmse: 0.000382133\ttraining's RMSPE: 0.177072\tvalid_1's rmse: 0.000427346\tvalid_1's RMSPE: 0.196812\n",
      "[2800]\ttraining's rmse: 0.000379166\ttraining's RMSPE: 0.175697\tvalid_1's rmse: 0.000426736\tvalid_1's RMSPE: 0.196531\n",
      "[3000]\ttraining's rmse: 0.000376368\ttraining's RMSPE: 0.174401\tvalid_1's rmse: 0.000425938\tvalid_1's RMSPE: 0.196163\n",
      "[3200]\ttraining's rmse: 0.000373678\ttraining's RMSPE: 0.173154\tvalid_1's rmse: 0.000425334\tvalid_1's RMSPE: 0.195885\n",
      "[3400]\ttraining's rmse: 0.000371234\ttraining's RMSPE: 0.172022\tvalid_1's rmse: 0.000424714\tvalid_1's RMSPE: 0.195599\n",
      "Early stopping, best iteration is:\n",
      "[3499]\ttraining's rmse: 0.000370069\ttraining's RMSPE: 0.171482\tvalid_1's rmse: 0.000424339\tvalid_1's RMSPE: 0.195427\n",
      "Our out of folds RMSPE is 0.19732021256464422\n"
     ]
    }
   ],
   "source": [
    "# Read train and test\n",
    "train, test = read_train_test()\n",
    "\n",
    "# Get unique stock ids \n",
    "train_stock_ids = train['stock_id'].unique()\n",
    "# Preprocess them using Parallel and our single stock id functions\n",
    "train_ = preprocessor(train_stock_ids, is_train = True)\n",
    "train = train.merge(train_, on = ['row_id'], how = 'left')\n",
    "\n",
    "# Get unique stock ids \n",
    "test_stock_ids = test['stock_id'].unique()\n",
    "# Preprocess them using Parallel and our single stock id functions\n",
    "test_ = preprocessor(test_stock_ids, is_train = False)\n",
    "test = test.merge(test_, on = ['row_id'], how = 'left')\n",
    "\n",
    "# Get group stats of time_id and stock_id\n",
    "train = get_time_stock(train)\n",
    "test = get_time_stock(test)\n",
    "\n",
    "# Traing and evaluate\n",
    "test_predictions = train_and_evaluate(train, test)"
   ]
  },
  {
   "cell_type": "code",
   "execution_count": 13,
   "id": "e1bd9b5b",
   "metadata": {
    "ExecuteTime": {
     "end_time": "2021-08-09T19:34:57.769916Z",
     "start_time": "2021-08-09T19:34:57.756913Z"
    }
   },
   "outputs": [],
   "source": [
    "# Save test predictions\n",
    "test['target'] = test_predictions\n",
    "test[['row_id', 'target']].to_csv('submission.csv',index = False)"
   ]
  },
  {
   "cell_type": "code",
   "execution_count": null,
   "id": "ab16bfec",
   "metadata": {},
   "outputs": [],
   "source": []
  }
 ],
 "metadata": {
  "kernelspec": {
   "display_name": "Python 3",
   "language": "python",
   "name": "python3"
  },
  "language_info": {
   "codemirror_mode": {
    "name": "ipython",
    "version": 3
   },
   "file_extension": ".py",
   "mimetype": "text/x-python",
   "name": "python",
   "nbconvert_exporter": "python",
   "pygments_lexer": "ipython3",
   "version": "3.8.8"
  },
  "toc": {
   "base_numbering": 1,
   "nav_menu": {},
   "number_sections": true,
   "sideBar": true,
   "skip_h1_title": false,
   "title_cell": "Table of Contents",
   "title_sidebar": "Contents",
   "toc_cell": false,
   "toc_position": {},
   "toc_section_display": true,
   "toc_window_display": false
  },
  "varInspector": {
   "cols": {
    "lenName": 16,
    "lenType": 16,
    "lenVar": 40
   },
   "kernels_config": {
    "python": {
     "delete_cmd_postfix": "",
     "delete_cmd_prefix": "del ",
     "library": "var_list.py",
     "varRefreshCmd": "print(var_dic_list())"
    },
    "r": {
     "delete_cmd_postfix": ") ",
     "delete_cmd_prefix": "rm(",
     "library": "var_list.r",
     "varRefreshCmd": "cat(var_dic_list()) "
    }
   },
   "types_to_exclude": [
    "module",
    "function",
    "builtin_function_or_method",
    "instance",
    "_Feature"
   ],
   "window_display": false
  }
 },
 "nbformat": 4,
 "nbformat_minor": 5
}
